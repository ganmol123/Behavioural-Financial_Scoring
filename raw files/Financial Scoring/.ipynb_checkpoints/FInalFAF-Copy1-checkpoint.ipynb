{
 "cells": [
  {
   "cell_type": "markdown",
   "metadata": {},
   "source": [
    "## Cleasing & Normalisation test data"
   ]
  },
  {
   "cell_type": "code",
   "execution_count": 1,
   "metadata": {},
   "outputs": [
    {
     "name": "stderr",
     "output_type": "stream",
     "text": [
      "/Users/kavitagupta/anaconda3/lib/python3.7/site-packages/sklearn/externals/joblib/__init__.py:15: DeprecationWarning: sklearn.externals.joblib is deprecated in 0.21 and will be removed in 0.23. Please import this functionality directly from joblib, which can be installed with: pip install joblib. If this warning is raised when loading pickled models, you may need to re-serialize those models with scikit-learn 0.21+.\n",
      "  warnings.warn(msg, category=DeprecationWarning)\n"
     ]
    }
   ],
   "source": [
    "import pandas as pd\n",
    "import numpy as np\n",
    "import re\n",
    "import sklearn\n",
    "from sklearn.externals import joblib \n",
    "import warnings\n",
    "warnings.filterwarnings('ignore')"
   ]
  },
  {
   "cell_type": "code",
   "execution_count": 2,
   "metadata": {},
   "outputs": [],
   "source": [
    "user_data= {'UnsecLines':[0.88551908], 'age':[43], 'Late3059':[0], 'DebtRatio':[0.1775], 'MonthlyIncome':[5700],'OpenCredit':[4], 'Late90':[0], 'PropLines':[0],'Late6089':[0], 'Deps':[0]}"
   ]
  },
  {
   "cell_type": "code",
   "execution_count": 6,
   "metadata": {},
   "outputs": [],
   "source": [
    "def f(user_data):\n",
    "    test2 = pd.read_csv(\"train.csv\")\n",
    "    test2 = test2[:1799]\n",
    "    test2 = test2.rename(columns={'Unnamed: 0': 'Unknown',\n",
    "                                  'SeriousDlqin2yrs': 'Target',\n",
    "                                  'RevolvingUtilizationOfUnsecuredLines': 'UnsecLines',\n",
    "                                  'NumberOfTime30-59DaysPastDueNotWorse': 'Late3059',\n",
    "                                  'DebtRatio': 'DebtRatio',\n",
    "                                  'MonthlyIncome': 'MonthlyIncome',\n",
    "                                  'NumberOfOpenCreditLinesAndLoans': 'OpenCredit',\n",
    "                                  'NumberOfTimes90DaysLate': 'Late90',\n",
    "                                  'NumberRealEstateLoansOrLines': 'PropLines',\n",
    "                                  'NumberOfTime60-89DaysPastDueNotWorse': 'Late6089',\n",
    "                                  'NumberOfDependents': 'Deps'})\n",
    "    test2.drop(labels=[\"Unknown\"],axis = 1,inplace=True)\n",
    "    test2.drop(labels=[\"Target\"],axis = 1,inplace=True)\n",
    "\n",
    "    test = pd.DataFrame(user_data)\n",
    "\n",
    "    ftest = pd.concat(objs=[test,test2], axis=0).reset_index(drop=True)\n",
    "\n",
    "    ftest.MonthlyIncome = ftest.MonthlyIncome.fillna(ftest.MonthlyIncome.median())\n",
    "    ftest.age = ftest.age.fillna(ftest.age.median())\n",
    "    ftest.UnsecLines = ftest.UnsecLines.fillna(ftest.UnsecLines.median())\n",
    "    ftest.Late3059 = ftest.Late3059.fillna(ftest.Late3059.median())\n",
    "    ftest.DebtRatio = ftest.DebtRatio.fillna(ftest.DebtRatio.median())\n",
    "    ftest.OpenCredit = ftest.OpenCredit.fillna(ftest.OpenCredit.median())\n",
    "    ftest.PropLines = ftest.PropLines.fillna(ftest.PropLines.median())\n",
    "    ftest.Late6089 = ftest.Late6089.fillna(ftest.Late6089.median())\n",
    "    ftest.Late90 = ftest.Late90.fillna(ftest.Late90.median())\n",
    "    ftest.Deps = ftest.Deps.fillna(ftest.Deps.median())\n",
    "\n",
    "    for i in range(len(ftest)):\n",
    "        if ftest.Late3059[i] >= 6:\n",
    "            ftest.Late3059[i] = 6\n",
    "    for i in range(len(ftest)):\n",
    "        if ftest.Late90[i] >= 5:\n",
    "            ftest.Late90[i] = 5\n",
    "    for i in range(len(ftest)):\n",
    "        if ftest.PropLines[i] >= 6:\n",
    "            ftest.PropLines[i] = 6\n",
    "    for i in range(len(ftest)):\n",
    "        if ftest.Late6089[i] >= 3:\n",
    "            ftest.Late6089[i] = 3\n",
    "\n",
    "    ftest.UnsecLines = pd.qcut(ftest.UnsecLines.values, 5).codes\n",
    "    ftest.age = pd.qcut(ftest.age.values, 5).codes\n",
    "    ftest.MonthlyIncome = pd.qcut(ftest.MonthlyIncome.values, 5).codes\n",
    "    ftest.DebtRatio = pd.qcut(ftest.DebtRatio.values, 5).codes\n",
    "    ftest.OpenCredit = pd.qcut(ftest.OpenCredit.values, 5).codes\n",
    "    \n",
    "    ftest = pd.get_dummies(ftest, columns = [\"UnsecLines\"], prefix=\"UnsecLines\")\n",
    "    ftest = pd.get_dummies(ftest, columns = [\"age\"], prefix=\"age\")\n",
    "    ftest = pd.get_dummies(ftest, columns = [\"Late3059\"], prefix=\"Late3059\")\n",
    "    ftest = pd.get_dummies(ftest, columns = [\"DebtRatio\"], prefix=\"DebtRatio\")\n",
    "    ftest = pd.get_dummies(ftest, columns = [\"MonthlyIncome\"], prefix=\"MonthlyIncome\")\n",
    "    ftest = pd.get_dummies(ftest, columns = [\"OpenCredit\"], prefix=\"OpenCredit\")\n",
    "    ftest = pd.get_dummies(ftest, columns = [\"Late90\"], prefix=\"Late90\")\n",
    "    ftest = pd.get_dummies(ftest, columns = [\"PropLines\"], prefix=\"PropLines\")\n",
    "    ftest = pd.get_dummies(ftest, columns = [\"Late6089\"], prefix=\"Late6089\")\n",
    "    ftest = pd.get_dummies(ftest, columns = [\"Deps\"], prefix=\"Deps\")\n",
    "    \n",
    "    Loaded_Model = joblib.load('Saved_Model.pk1')\n",
    "    \n",
    "    f = ftest[:1]\n",
    "    f = f.drop([\"Deps_5.0\", \"Deps_6.0\", \"Deps_8.0\"], axis=1)\n",
    "    \n",
    "    score = Loaded_Model.predict_proba(f) #generating score from the loaded model\n",
    "    score = score[:,1]\n",
    "    \n",
    "    print(score)"
   ]
  },
  {
   "cell_type": "markdown",
   "metadata": {},
   "source": [
    "## Loading model & passing test data to generate score."
   ]
  },
  {
   "cell_type": "code",
   "execution_count": 8,
   "metadata": {},
   "outputs": [
    {
     "name": "stdout",
     "output_type": "stream",
     "text": [
      "[0.01283333]\n"
     ]
    }
   ],
   "source": [
    "f(user_data)"
   ]
  },
  {
   "cell_type": "code",
   "execution_count": null,
   "metadata": {},
   "outputs": [],
   "source": []
  },
  {
   "cell_type": "code",
   "execution_count": null,
   "metadata": {},
   "outputs": [],
   "source": []
  }
 ],
 "metadata": {
  "kernelspec": {
   "display_name": "Python 3",
   "language": "python",
   "name": "python3"
  },
  "language_info": {
   "codemirror_mode": {
    "name": "ipython",
    "version": 3
   },
   "file_extension": ".py",
   "mimetype": "text/x-python",
   "name": "python",
   "nbconvert_exporter": "python",
   "pygments_lexer": "ipython3",
   "version": "3.7.3"
  }
 },
 "nbformat": 4,
 "nbformat_minor": 2
}
